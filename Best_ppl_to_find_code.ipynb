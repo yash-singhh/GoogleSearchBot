{
  "nbformat": 4,
  "nbformat_minor": 0,
  "metadata": {
    "colab": {
      "provenance": []
    },
    "kernelspec": {
      "name": "python3",
      "display_name": "Python 3"
    },
    "language_info": {
      "name": "python"
    }
  },
  "cells": [
    {
      "cell_type": "code",
      "execution_count": 4,
      "metadata": {
        "colab": {
          "base_uri": "https://localhost:8080/"
        },
        "id": "tMfRZIZcwci_",
        "outputId": "4f6608b0-2ab9-4de4-d296-592854be955d"
      },
      "outputs": [
        {
          "output_type": "stream",
          "name": "stdout",
          "text": [
            "Enter the profession or company you want to find: best doctor\n",
            "Result 1: https://bestdoctors.com/\n",
            "Result 2: https://bestdoctors.com/contact-us/\n",
            "Result 3: http://bestdoctors.com/united-kingdom/\n",
            "Result 4: https://www.bestdoctors.com/united-kingdom\n",
            "Result 5: https://www.bestdoctors.com/\n",
            "\n",
            "Data written to search_results.csv\n"
          ]
        }
      ],
      "source": [
        "import csv\n",
        "from googlesearch import search\n",
        "\n",
        "# Step 1: Ask the user for the profession or company\n",
        "query = input(\"Enter the profession or company you want to find: \")\n",
        "\n",
        "# Step 2: Scrap Google to find the best results\n",
        "results = list(search(query, num=5, stop=5, pause=2))\n",
        "\n",
        "# Step 3: Write the data to a CSV file or recommend profile links\n",
        "csv_file_path = 'search_results.csv'\n",
        "\n",
        "with open(csv_file_path, 'w', newline='', encoding='utf-8') as csvfile:\n",
        "    csv_writer = csv.writer(csvfile)\n",
        "    csv_writer.writerow(['Result Number', 'Link'])\n",
        "\n",
        "    # Writing results to CSV and recommending links\n",
        "    for i, result in enumerate(results, start=1):\n",
        "        csv_writer.writerow([i, result])\n",
        "        print(f\"Result {i}: {result}\")\n",
        "\n",
        "print(f\"\\nData written to {csv_file_path}\")\n"
      ]
    },
    {
      "cell_type": "code",
      "source": [
        "import csv\n",
        "from googlesearch import search\n",
        "\n",
        "# Step 1: Ask the user for the profession or company\n",
        "query = input(\"Enter the profession or company you want to find: \")\n",
        "\n",
        "# Step 2: Scrap Google to find the best results\n",
        "results = list(search(query, num=5, stop=5, pause=2))\n",
        "\n",
        "# Step 3: Write the data to a CSV file or recommend profile links\n",
        "csv_file_path = 'search_results.csv'\n",
        "\n",
        "with open(csv_file_path, 'w', newline='', encoding='utf-8') as csvfile:\n",
        "    csv_writer = csv.writer(csvfile)\n",
        "    csv_writer.writerow(['Result Number', 'Link'])\n",
        "\n",
        "    # Writing results to CSV and recommending links\n",
        "    for i, result in enumerate(results, start=1):\n",
        "        csv_writer.writerow([i, result])\n",
        "        print(f\"Result {i}: {result}\")\n",
        "\n",
        "print(f\"\\nData written to {csv_file_path}\")\n"
      ],
      "metadata": {
        "colab": {
          "base_uri": "https://localhost:8080/"
        },
        "id": "8OfyT_LMwe8w",
        "outputId": "2a7d7506-f1c2-4b1e-963a-e2edcfb96d23"
      },
      "execution_count": 2,
      "outputs": [
        {
          "output_type": "stream",
          "name": "stdout",
          "text": [
            "Enter the profession or company you want to find: ai companey\n",
            "Result 1: https://builtin.com/artificial-intelligence/ai-companies-roundup\n",
            "Result 2: https://builtin.com/company/redflag-ai\n",
            "Result 3: https://builtin.com/company/gradient-ai\n",
            "Result 4: https://builtin.com/company/lily-ai\n",
            "Result 5: https://builtin.com/company/shield-ai\n",
            "\n",
            "Data written to search_results.csv\n"
          ]
        }
      ]
    },
    {
      "cell_type": "code",
      "source": [
        "import csv\n",
        "from googlesearch import search\n",
        "\n",
        "# Step 1: Ask the user for the profession or company\n",
        "query = input(\"Enter the profession or company you want to find: \")\n",
        "\n",
        "# Step 2: Scrap Google to find the best results\n",
        "results = list(search(query, num=5, stop=5, pause=2))\n",
        "\n",
        "# Step 3: Write the data to a CSV file or recommend profile links\n",
        "csv_file_path = 'search_results.csv'\n",
        "\n",
        "with open(csv_file_path, 'w', newline='', encoding='utf-8') as csvfile:\n",
        "    csv_writer = csv.writer(csvfile)\n",
        "    csv_writer.writerow(['Result Number', 'Link'])\n",
        "\n",
        "    # Writing results to CSV and recommending links\n",
        "    for i, result in enumerate(results, start=1):\n",
        "        csv_writer.writerow([i, result])\n",
        "        print(f\"Result {i}: {result}\")\n",
        "\n",
        "print(f\"\\nData written to {csv_file_path}\")\n"
      ],
      "metadata": {
        "colab": {
          "base_uri": "https://localhost:8080/"
        },
        "id": "vwLC9JCwwrqF",
        "outputId": "d4c49084-ae41-463f-852d-173b662bd2e3"
      },
      "execution_count": 5,
      "outputs": [
        {
          "output_type": "stream",
          "name": "stdout",
          "text": [
            "Enter the profession or company you want to find: best lawyer in mumbai\n",
            "Result 1: https://lawrato.com/lawyers/mumbai\n",
            "Result 2: https://advocatebindu.com/\n",
            "Result 3: https://www.leadindia.law/lawyers/mumbai\n",
            "Result 4: https://www.quora.com/Who-are-the-best-lawyer-in-Mumbai\n",
            "Result 5: https://www.quora.com/Who-is-the-best-advocate-in-Mumbai-India\n",
            "\n",
            "Data written to search_results.csv\n"
          ]
        }
      ]
    },
    {
      "cell_type": "code",
      "source": [],
      "metadata": {
        "id": "jGEPMNw7zCrQ"
      },
      "execution_count": null,
      "outputs": []
    },
    {
      "cell_type": "code",
      "source": [],
      "metadata": {
        "id": "HEnVblPnwx9o"
      },
      "execution_count": 5,
      "outputs": []
    },
    {
      "cell_type": "code",
      "source": [
        "import csv\n",
        "from googlesearch import search\n",
        "\n",
        "# Function to get user input and perform the search\n",
        "def search_and_write_csv(query):\n",
        "    results = list(search(query, num=7, stop=5, pause=2))\n",
        "    csv_file_path = 'search_results.csv'\n",
        "\n",
        "    with open(csv_file_path, 'a', newline='', encoding='utf-8') as csvfile:\n",
        "        csv_writer = csv.writer(csvfile)\n",
        "\n",
        "        # Writing results to CSV\n",
        "        for i, result in enumerate(results, start=1):\n",
        "            csv_writer.writerow([i, result])\n",
        "            print(f\"Result {i}: {result}\")\n",
        "\n",
        "    print(f\"\\nData appended to {csv_file_path}\")\n",
        "\n",
        "# Chatbot loop\n",
        "while True:\n",
        "    user_input = input(\"Enter the profession or company you want to find (type 'exit' to quit): \")\n",
        "\n",
        "    if user_input.lower() == 'exit':\n",
        "        break\n",
        "\n",
        "    search_and_write_csv(user_input)\n"
      ],
      "metadata": {
        "colab": {
          "base_uri": "https://localhost:8080/"
        },
        "id": "7rEZAIhwzD9C",
        "outputId": "4c6d75f5-5a9f-4275-f0eb-664b44f98e1a"
      },
      "execution_count": 6,
      "outputs": [
        {
          "name": "stdout",
          "output_type": "stream",
          "text": [
            "Enter the profession or company you want to find (type 'exit' to quit): doctor\n",
            "Result 1: https://en.wikipedia.org/wiki/Doctor\n",
            "Result 2: https://en.wikipedia.org/wiki/Doctor_(title)\n",
            "Result 3: https://en.wikipedia.org/wiki/The_Doctor_(Doctor_Who)\n",
            "Result 4: https://en.wikipedia.org/wiki/The_Doctors_(South_Korean_TV_series)\n",
            "Result 5: https://www.merriam-webster.com/dictionary/doctor\n",
            "\n",
            "Data appended to search_results.csv\n",
            "Enter the profession or company you want to find (type 'exit' to quit): cricket tournment\n",
            "Result 1: https://www.espncricinfo.com/cricket-fixtures\n",
            "Result 2: https://www.espncricinfo.com/series/bangladesh-cricket-league-2023-24-1411482/match-schedule-fixtures-and-results\n",
            "Result 3: https://www.espncricinfo.com/series/major-league-tournament-2023-2023-24-1382912/match-schedule-fixtures-and-results\n",
            "Result 4: https://www.espncricinfo.com/series/icc-under-19-world-cup-2023-24-1399722\n",
            "Result 5: https://www.majorleaguecricket.com/\n",
            "\n",
            "Data appended to search_results.csv\n",
            "Enter the profession or company you want to find (type 'exit' to quit): hackathon in mumbai\n",
            "Result 1: https://www.hackerearth.com/hackathon/explore/city/mumbai/\n",
            "Result 2: https://www.eventbrite.com/d/india--mumbai/hackathon/\n",
            "Result 3: https://mumbaihackathon.in/\n",
            "Result 4: https://mumbaihacks.com/\n",
            "Result 5: https://www.placementpreparation.io/blog/hackathons-in-mumbai/\n",
            "\n",
            "Data appended to search_results.csv\n",
            "Enter the profession or company you want to find (type 'exit' to quit): farming material\n",
            "Result 1: https://gamepress.gg/arknights/news/arknights-material-farming-efficiency-best-stages-farm\n",
            "Result 2: https://www.reddit.com/r/arknights/comments/13dnuc8/material_farming_chapter_11_update/\n",
            "Result 3: https://www.reddit.com/r/EliteDangerous/comments/15e2x4y/ground_material_farminghow/\n",
            "Result 4: https://www.reddit.com/r/Guildwars2/comments/14m5dsf/best_placeway_to_farm_materials/\n",
            "Result 5: https://www.reddit.com/r/Genshin_Impact/comments/12qg1z1/what_is_your_ultimate_teyvat_overworld_material/\n",
            "\n",
            "Data appended to search_results.csv\n",
            "Enter the profession or company you want to find (type 'exit' to quit): exit\n"
          ]
        }
      ]
    },
    {
      "cell_type": "code",
      "source": [
        "import csv\n",
        "from googlesearch import search\n",
        "\n",
        "# Function to get user input and perform the search\n",
        "def search_and_write_csv(query):\n",
        "    results = list(search(query, num=7, stop=5, pause=2))\n",
        "    csv_file_path = 'search_results.csv'\n",
        "\n",
        "    with open(csv_file_path, 'a', newline='', encoding='utf-8') as csvfile:\n",
        "        csv_writer = csv.writer(csvfile)\n",
        "\n",
        "        # Writing results to CSV\n",
        "        for i, result in enumerate(results, start=1):\n",
        "            csv_writer.writerow([i, result])\n",
        "            print(f\"Result {i}: {result}\")\n",
        "\n",
        "    print(f\"\\nData appended to {csv_file_path}\")\n",
        "\n",
        "# Chatbot loop\n",
        "while True:\n",
        "    user_input = input(\"Enter the profession or company you want to find (type 'exit' to quit): \")\n",
        "\n",
        "    if user_input.lower() == 'exit':\n",
        "        break\n",
        "\n",
        "    search_and_write_csv(user_input)\n"
      ],
      "metadata": {
        "colab": {
          "base_uri": "https://localhost:8080/",
          "height": 1000
        },
        "id": "5olCKzrkzGek",
        "outputId": "1c0a6bce-3b46-47f9-9ab4-f21f89dd0bb9"
      },
      "execution_count": 8,
      "outputs": [
        {
          "output_type": "stream",
          "name": "stdout",
          "text": [
            "Enter the profession or company you want to find (type 'exit' to quit): 5 ai company\n",
            "Result 1: https://builtin.com/artificial-intelligence/ai-companies-roundup\n",
            "Result 2: https://builtin.com/company/redflag-ai\n",
            "Result 3: https://builtin.com/company/gradient-ai\n",
            "Result 4: https://builtin.com/company/lily-ai\n",
            "Result 5: https://builtin.com/company/shield-ai\n",
            "\n",
            "Data appended to search_results.csv\n",
            "Enter the profession or company you want to find (type 'exit' to quit): place to visit in mumbai\n",
            "Result 1: https://www.tripadvisor.com/Attractions-g304554-Activities-Mumbai_Maharashtra.html\n",
            "Result 2: https://www.tripadvisor.com/Attractions-g304554-Activities-c61-t52-Mumbai_Maharashtra.html\n",
            "Result 3: https://www.tripadvisor.com/Attractions-g304554-Activities-c47-t34-Mumbai_Maharashtra.html\n",
            "Result 4: https://www.tripadvisor.com/Attractions-g304554-Activities-c57-t45-Mumbai_Maharashtra.html\n",
            "Result 5: https://www.tripadvisor.com/Attractions-g304554-Activities-c57-t58-Mumbai_Maharashtra.html\n",
            "\n",
            "Data appended to search_results.csv\n",
            "Enter the profession or company you want to find (type 'exit' to quit): hackathon update\n",
            "Result 1: https://devpost.com/hackathons\n",
            "Result 2: https://kyroz.devpost.com/\n",
            "Result 3: https://info.devpost.com/product/public-hackathons\n",
            "Result 4: https://dlt-climate-hackathon.devpost.com/?ref_feature=challenge&ref_medium=discover\n",
            "Result 5: https://www.hackerearth.com/challenges/hackathon/\n",
            "\n",
            "Data appended to search_results.csv\n",
            "Enter the profession or company you want to find (type 'exit' to quit): best lawyer\n",
            "Result 1: https://www.bestlawyers.com/\n",
            "Result 2: https://www.americastop50lawyers.com/\n",
            "Result 3: https://www.superlawyers.com/\n",
            "Result 4: https://parrbrown.com/recognitions/\n",
            "Result 5: https://www.linkedin.com/company/best-lawyers-llc\n",
            "\n",
            "Data appended to search_results.csv\n",
            "Enter the profession or company you want to find (type 'exit' to quit): best institute in mumbai\n",
            "Result 1: https://collegedunia.com/mumbai-colleges\n",
            "Result 2: https://www.shiksha.com/colleges/mumbai-all\n",
            "Result 3: https://zollege.in/mumbai-colleges\n",
            "Result 4: https://www.quora.com/Which-is-the-best-institute-in-Mumbai-to-learn-data-science-and-their-placement\n",
            "Result 5: https://www.quora.com/Which-is-the-best-institute-to-do-an-MBA-in-Mumbai-for-girls\n",
            "\n",
            "Data appended to search_results.csv\n"
          ]
        },
        {
          "output_type": "error",
          "ename": "KeyboardInterrupt",
          "evalue": "Interrupted by user",
          "traceback": [
            "\u001b[0;31m---------------------------------------------------------------------------\u001b[0m",
            "\u001b[0;31mKeyboardInterrupt\u001b[0m                         Traceback (most recent call last)",
            "\u001b[0;32m<ipython-input-8-c4825bc61a5a>\u001b[0m in \u001b[0;36m<cell line: 20>\u001b[0;34m()\u001b[0m\n\u001b[1;32m     19\u001b[0m \u001b[0;31m# Chatbot loop\u001b[0m\u001b[0;34m\u001b[0m\u001b[0;34m\u001b[0m\u001b[0m\n\u001b[1;32m     20\u001b[0m \u001b[0;32mwhile\u001b[0m \u001b[0;32mTrue\u001b[0m\u001b[0;34m:\u001b[0m\u001b[0;34m\u001b[0m\u001b[0;34m\u001b[0m\u001b[0m\n\u001b[0;32m---> 21\u001b[0;31m     \u001b[0muser_input\u001b[0m \u001b[0;34m=\u001b[0m \u001b[0minput\u001b[0m\u001b[0;34m(\u001b[0m\u001b[0;34m\"Enter the profession or company you want to find (type 'exit' to quit): \"\u001b[0m\u001b[0;34m)\u001b[0m\u001b[0;34m\u001b[0m\u001b[0;34m\u001b[0m\u001b[0m\n\u001b[0m\u001b[1;32m     22\u001b[0m \u001b[0;34m\u001b[0m\u001b[0m\n\u001b[1;32m     23\u001b[0m     \u001b[0;32mif\u001b[0m \u001b[0muser_input\u001b[0m\u001b[0;34m.\u001b[0m\u001b[0mlower\u001b[0m\u001b[0;34m(\u001b[0m\u001b[0;34m)\u001b[0m \u001b[0;34m==\u001b[0m \u001b[0;34m'exit'\u001b[0m\u001b[0;34m:\u001b[0m\u001b[0;34m\u001b[0m\u001b[0;34m\u001b[0m\u001b[0m\n",
            "\u001b[0;32m/usr/local/lib/python3.10/dist-packages/ipykernel/kernelbase.py\u001b[0m in \u001b[0;36mraw_input\u001b[0;34m(self, prompt)\u001b[0m\n\u001b[1;32m    849\u001b[0m                 \u001b[0;34m\"raw_input was called, but this frontend does not support input requests.\"\u001b[0m\u001b[0;34m\u001b[0m\u001b[0;34m\u001b[0m\u001b[0m\n\u001b[1;32m    850\u001b[0m             )\n\u001b[0;32m--> 851\u001b[0;31m         return self._input_request(str(prompt),\n\u001b[0m\u001b[1;32m    852\u001b[0m             \u001b[0mself\u001b[0m\u001b[0;34m.\u001b[0m\u001b[0m_parent_ident\u001b[0m\u001b[0;34m,\u001b[0m\u001b[0;34m\u001b[0m\u001b[0;34m\u001b[0m\u001b[0m\n\u001b[1;32m    853\u001b[0m             \u001b[0mself\u001b[0m\u001b[0;34m.\u001b[0m\u001b[0m_parent_header\u001b[0m\u001b[0;34m,\u001b[0m\u001b[0;34m\u001b[0m\u001b[0;34m\u001b[0m\u001b[0m\n",
            "\u001b[0;32m/usr/local/lib/python3.10/dist-packages/ipykernel/kernelbase.py\u001b[0m in \u001b[0;36m_input_request\u001b[0;34m(self, prompt, ident, parent, password)\u001b[0m\n\u001b[1;32m    893\u001b[0m             \u001b[0;32mexcept\u001b[0m \u001b[0mKeyboardInterrupt\u001b[0m\u001b[0;34m:\u001b[0m\u001b[0;34m\u001b[0m\u001b[0;34m\u001b[0m\u001b[0m\n\u001b[1;32m    894\u001b[0m                 \u001b[0;31m# re-raise KeyboardInterrupt, to truncate traceback\u001b[0m\u001b[0;34m\u001b[0m\u001b[0;34m\u001b[0m\u001b[0m\n\u001b[0;32m--> 895\u001b[0;31m                 \u001b[0;32mraise\u001b[0m \u001b[0mKeyboardInterrupt\u001b[0m\u001b[0;34m(\u001b[0m\u001b[0;34m\"Interrupted by user\"\u001b[0m\u001b[0;34m)\u001b[0m \u001b[0;32mfrom\u001b[0m \u001b[0;32mNone\u001b[0m\u001b[0;34m\u001b[0m\u001b[0;34m\u001b[0m\u001b[0m\n\u001b[0m\u001b[1;32m    896\u001b[0m             \u001b[0;32mexcept\u001b[0m \u001b[0mException\u001b[0m \u001b[0;32mas\u001b[0m \u001b[0me\u001b[0m\u001b[0;34m:\u001b[0m\u001b[0;34m\u001b[0m\u001b[0;34m\u001b[0m\u001b[0m\n\u001b[1;32m    897\u001b[0m                 \u001b[0mself\u001b[0m\u001b[0;34m.\u001b[0m\u001b[0mlog\u001b[0m\u001b[0;34m.\u001b[0m\u001b[0mwarning\u001b[0m\u001b[0;34m(\u001b[0m\u001b[0;34m\"Invalid Message:\"\u001b[0m\u001b[0;34m,\u001b[0m \u001b[0mexc_info\u001b[0m\u001b[0;34m=\u001b[0m\u001b[0;32mTrue\u001b[0m\u001b[0;34m)\u001b[0m\u001b[0;34m\u001b[0m\u001b[0;34m\u001b[0m\u001b[0m\n",
            "\u001b[0;31mKeyboardInterrupt\u001b[0m: Interrupted by user"
          ]
        }
      ]
    },
    {
      "cell_type": "code",
      "source": [],
      "metadata": {
        "id": "TedmE1540yzb"
      },
      "execution_count": null,
      "outputs": []
    }
  ]
}